{
 "cells": [
  {
   "cell_type": "code",
   "execution_count": 35,
   "id": "070fdb86",
   "metadata": {},
   "outputs": [],
   "source": [
    "import hmmlearn\n",
    "from pomegranate import *"
   ]
  },
  {
   "cell_type": "code",
   "execution_count": 63,
   "id": "3ff76161",
   "metadata": {},
   "outputs": [
    {
     "name": "stdout",
     "output_type": "stream",
     "text": [
      "Collecting nltk\n",
      "  Downloading nltk-3.8.1-py3-none-any.whl (1.5 MB)\n",
      "\u001b[2K     \u001b[90m━━━━━━━━━━━━━━━━━━━━━━━━━━━━━━━━━━━━━━━━\u001b[0m \u001b[32m1.5/1.5 MB\u001b[0m \u001b[31m13.2 MB/s\u001b[0m eta \u001b[36m0:00:00\u001b[0m00:01\u001b[0m00:01\u001b[0m\n",
      "\u001b[?25hRequirement already satisfied: joblib in /opt/conda/lib/python3.7/site-packages (from nltk) (1.2.0)\n",
      "Collecting regex>=2021.8.3\n",
      "  Downloading regex-2023.5.5-cp37-cp37m-manylinux_2_17_x86_64.manylinux2014_x86_64.whl (756 kB)\n",
      "\u001b[2K     \u001b[90m━━━━━━━━━━━━━━━━━━━━━━━━━━━━━━━━━━━━━━\u001b[0m \u001b[32m756.6/756.6 kB\u001b[0m \u001b[31m20.2 MB/s\u001b[0m eta \u001b[36m0:00:00\u001b[0m00:01\u001b[0m\n",
      "\u001b[?25hRequirement already satisfied: click in /opt/conda/lib/python3.7/site-packages (from nltk) (8.1.3)\n",
      "Requirement already satisfied: tqdm in /opt/conda/lib/python3.7/site-packages (from nltk) (4.64.1)\n",
      "Requirement already satisfied: importlib-metadata in /opt/conda/lib/python3.7/site-packages (from click->nltk) (6.0.0)\n",
      "Requirement already satisfied: typing-extensions>=3.6.4 in /opt/conda/lib/python3.7/site-packages (from importlib-metadata->click->nltk) (4.5.0)\n",
      "Requirement already satisfied: zipp>=0.5 in /opt/conda/lib/python3.7/site-packages (from importlib-metadata->click->nltk) (3.15.0)\n",
      "Installing collected packages: regex, nltk\n",
      "Successfully installed nltk-3.8.1 regex-2023.5.5\n"
     ]
    }
   ],
   "source": [
    "# !pip install nltk"
   ]
  },
  {
   "cell_type": "code",
   "execution_count": 3,
   "id": "3c193f98",
   "metadata": {},
   "outputs": [],
   "source": [
    "mis_spell = 'finence'"
   ]
  },
  {
   "cell_type": "code",
   "execution_count": 4,
   "id": "a472278c",
   "metadata": {},
   "outputs": [],
   "source": [
    "\n",
    "model = HiddenMarkovModel()\n",
    "\n",
    "# Define the distribution for insertions\n",
    "d1_ = DiscreteDistribution( { 'A': 0.25, 'C': 0.25, 'G': 0.25, 'T': 0.25 } )\n",
    "d2_ = DiscreteDistribution( { 'A': 0.10, 'C': 0.40, 'G': 0.40, 'T': 0.10 } )\n",
    "\n",
    "# Create the insert states, each with a uniform insertion distribution\n",
    "d1 = State( d1_, name=\"I0\" )\n",
    "d2 = State( d2_, name=\"I1\" )\n",
    "\n",
    "model.add_states([d1, d2])\n",
    "model.add_transition(model.start, d1, 0.5)\n",
    "model.add_transition(model.start, d2, 0.5)\n",
    "model.add_transition(d1, d1, 0.9)\n",
    "model.add_transition(d1, d2, 0.1)\n",
    "model.add_transition(d2, d1, 0.1)\n",
    "model.add_transition(d2, d2, 0.9)\n",
    "model.bake()\n",
    "sequence = 'CGACTACTGACTACTCGCCGACGCGACTGCCGTCTATACTGCGCATACGGC'\n",
    "y_hat = model.predict([i for i in sequence])"
   ]
  },
  {
   "cell_type": "code",
   "execution_count": 5,
   "id": "4af4c454",
   "metadata": {},
   "outputs": [
    {
     "name": "stdout",
     "output_type": "stream",
     "text": [
      "[1, 1, 1, 1, 1, 1, 1, 1, 1, 1, 1, 0, 0, 0, 0, 0, 0, 0, 0, 0]\n"
     ]
    }
   ],
   "source": [
    "sequence = 'CGACACCCGGGAGAGAGAGA'\n",
    "y_hat = model.predict([i for i in sequence])\n",
    "print(y_hat)"
   ]
  },
  {
   "cell_type": "code",
   "execution_count": 36,
   "id": "b2101a62",
   "metadata": {},
   "outputs": [],
   "source": [
    "tokens = ['f','i','n','a','c','e']\n",
    "bi_tokens = ['fi','fa','fe','ni','na','ne','ci','ca','ce']\n",
    "cardinality1 = [1,1,2,1,1,1]\n",
    "cardinality2 = [1,1,2,0,1,2]\n",
    "bi_cardinality1 = [1,1,1,1,1,1,1,1,1]\n",
    "bi_cardinality2 = [100,1,1,1,100,1,1,1,100]\n",
    "n_tokens = len(tokens)\n",
    "n_bitokens = len(bi_tokens)\n",
    "prob1 = [i/n_tokens for i in cardinality1]\n",
    "prob2 = [i/n_tokens for i in cardinality2]\n",
    "biprob1 = [i/n_bitokens for i in bi_cardinality1]\n",
    "biprob2 = [i/n_bitokens for i in bi_cardinality2]"
   ]
  },
  {
   "cell_type": "code",
   "execution_count": 41,
   "id": "d9908cf9",
   "metadata": {},
   "outputs": [],
   "source": [
    "token_dict1 = dict(zip(tokens, [i/sum(prob1) for i in prob1]))\n",
    "token_dict2 = dict(zip(tokens, [i/sum(prob2) for i in prob2]))\n",
    "bi_token_dict1 = dict(zip(bi_tokens, [i/sum(biprob1) for i in biprob1]))\n",
    "bi_token_dict2 = dict(zip(bi_tokens, [i/sum(biprob2) for i in biprob2]))\n",
    "\n",
    "s1 = State(DiscreteDistribution( token_dict1 ), 's1')\n",
    "s2 = State(DiscreteDistribution( token_dict2 ), 's2')\n",
    "s3 = State(DiscreteDistribution( bi_token_dict1 ), 's3')\n",
    "s4 = State(DiscreteDistribution( bi_token_dict2 ), 's4')"
   ]
  },
  {
   "cell_type": "code",
   "execution_count": 43,
   "id": "6b280522",
   "metadata": {},
   "outputs": [],
   "source": [
    "model1 = HiddenMarkovModel()\n",
    "model1.add_states([s1, s2])\n",
    "model1.add_transition(model1.start, s1, 0.5)\n",
    "model1.add_transition(model1.start, s2, 0.5)\n",
    "model1.add_transition(s1, s1, 0.9)\n",
    "model1.add_transition(s1, s2, 0.1)\n",
    "model1.add_transition(s2, s1, 0.1)\n",
    "model1.add_transition(s2, s2, 0.9)\n",
    "model1.bake()"
   ]
  },
  {
   "cell_type": "code",
   "execution_count": 53,
   "id": "0e89ea5d",
   "metadata": {},
   "outputs": [],
   "source": [
    "model2 = HiddenMarkovModel()\n",
    "model2.add_states([s3, s4])\n",
    "model2.add_transition(model2.start, s3, 0.5)\n",
    "model2.add_transition(model2.start, s4, 0.5)\n",
    "model2.add_transition(s3, s3, 0.5)\n",
    "model2.add_transition(s3, s4, 0.5)\n",
    "model2.add_transition(s4, s3, 0.5)\n",
    "model2.add_transition(s4, s4, 0.5)\n",
    "model2.bake()"
   ]
  },
  {
   "cell_type": "code",
   "execution_count": 54,
   "id": "68aabd28",
   "metadata": {},
   "outputs": [
    {
     "name": "stdout",
     "output_type": "stream",
     "text": [
      "[1, 1, 1, 1, 1, 1, 1]\n"
     ]
    }
   ],
   "source": [
    "sequence = 'finence'\n",
    "y_hat = model1.predict([i for i in sequence])\n",
    "print(y_hat)"
   ]
  },
  {
   "cell_type": "code",
   "execution_count": 60,
   "id": "abf888ca",
   "metadata": {},
   "outputs": [
    {
     "name": "stdout",
     "output_type": "stream",
     "text": [
      "[1, 0, 0]\n"
     ]
    }
   ],
   "source": [
    "consonants = \"bcdfghjklmnpqrstvwxyz\"\n",
    "sequence = 'finenci'\n",
    "y_hat = model2.predict([sequence[i:i+2] for i in range(0,len(sequence)) if len(sequence[i:i+2])==2 and sequence[i] in consonants and sequence[i+1] not in consonants])\n",
    "print(y_hat)"
   ]
  },
  {
   "cell_type": "code",
   "execution_count": 65,
   "id": "c51d6d3e",
   "metadata": {},
   "outputs": [],
   "source": [
    "from nltk.corpus import words"
   ]
  },
  {
   "cell_type": "code",
   "execution_count": 76,
   "id": "ceefa528",
   "metadata": {},
   "outputs": [
    {
     "name": "stderr",
     "output_type": "stream",
     "text": [
      "[nltk_data] Downloading package words to /home/kpapdac/nltk_data...\n",
      "[nltk_data]   Unzipping corpora/words.zip.\n"
     ]
    },
    {
     "data": {
      "text/plain": [
       "True"
      ]
     },
     "execution_count": 76,
     "metadata": {},
     "output_type": "execute_result"
    }
   ],
   "source": [
    "nltk.download('words')"
   ]
  },
  {
   "cell_type": "code",
   "execution_count": 80,
   "id": "4b1a48d5",
   "metadata": {},
   "outputs": [
    {
     "data": {
      "text/plain": [
       "False"
      ]
     },
     "execution_count": 80,
     "metadata": {},
     "output_type": "execute_result"
    }
   ],
   "source": [
    "'spam' in words.words()"
   ]
  },
  {
   "cell_type": "code",
   "execution_count": 91,
   "id": "ce7cba35",
   "metadata": {},
   "outputs": [
    {
     "name": "stderr",
     "output_type": "stream",
     "text": [
      "[nltk_data] Downloading package wordnet to /home/kpapdac/nltk_data...\n",
      "[nltk_data]   Package wordnet is already up-to-date!\n",
      "[nltk_data] Downloading package words to /home/kpapdac/nltk_data...\n",
      "[nltk_data]   Package words is already up-to-date!\n"
     ]
    }
   ],
   "source": [
    "from nltk.corpus import words\n",
    "from nltk.corpus import wordnet \n",
    "nltk.download('wordnet')\n",
    "nltk.download('words')\n",
    "manywords = words.words() + [i for i in wordnet.words()]"
   ]
  },
  {
   "cell_type": "code",
   "execution_count": 94,
   "id": "027a228b",
   "metadata": {},
   "outputs": [
    {
     "data": {
      "text/plain": [
       "True"
      ]
     },
     "execution_count": 94,
     "metadata": {},
     "output_type": "execute_result"
    }
   ],
   "source": [
    "'rotten' in manywords"
   ]
  },
  {
   "cell_type": "code",
   "execution_count": 95,
   "id": "c55c2527",
   "metadata": {},
   "outputs": [
    {
     "data": {
      "text/plain": [
       "384042"
      ]
     },
     "execution_count": 95,
     "metadata": {},
     "output_type": "execute_result"
    }
   ],
   "source": [
    "len(manywords)"
   ]
  },
  {
   "cell_type": "code",
   "execution_count": null,
   "id": "d44c520a",
   "metadata": {},
   "outputs": [],
   "source": []
  }
 ],
 "metadata": {
  "kernelspec": {
   "display_name": "Python 3 (ipykernel)",
   "language": "python",
   "name": "python3"
  },
  "language_info": {
   "codemirror_mode": {
    "name": "ipython",
    "version": 3
   },
   "file_extension": ".py",
   "mimetype": "text/x-python",
   "name": "python",
   "nbconvert_exporter": "python",
   "pygments_lexer": "ipython3",
   "version": "3.7.12"
  }
 },
 "nbformat": 4,
 "nbformat_minor": 5
}
